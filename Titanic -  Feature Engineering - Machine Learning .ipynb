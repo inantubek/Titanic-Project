{
 "cells": [
  {
   "cell_type": "markdown",
   "metadata": {},
   "source": [
    "https://www.kaggle.com/c/titanic\n",
    "\n",
    "15 April 1912 Titanic gemi kazası ile ilgili veri seti\n",
    "\n",
    "2224 kişiden 1502 kişi kazada ölmüş (yolcu ve görevli)\n",
    "\n",
    "titanic.csv içinde\n",
    "\n",
    "Survival (hayatta kalıp kalmama durumu)--> bağımlı değişken (hedef değişken)\n",
    "0 = hayatta kalmadı\n",
    "1 = hayatta kaldı\n",
    "\n",
    "Bağımsız Değişkenler\n",
    "1. Sex (cinsiyet)\n",
    "2. Age  (yaş)\n",
    "3. SibSp(kardeşler(siblings), karı koca(spouse))\n",
    "4. Parch (parent, children)\n",
    "5. Ticket ( bilet numarası)\n",
    "6. Fare (yolcu ücreti)\n",
    "7. Cabin(kabin numarası)\n",
    "8. Embarked(bindiği liman -->  C:Cherbourg, Q: Queenstown, S: Southampton) \n",
    "9. Pclass (biletin sınıfı)\n"
   ]
  },
  {
   "cell_type": "code",
   "execution_count": 76,
   "metadata": {},
   "outputs": [],
   "source": [
    "import pandas as pd"
   ]
  },
  {
   "cell_type": "code",
   "execution_count": 77,
   "metadata": {},
   "outputs": [
    {
     "data": {
      "text/html": [
       "<div>\n",
       "<style scoped>\n",
       "    .dataframe tbody tr th:only-of-type {\n",
       "        vertical-align: middle;\n",
       "    }\n",
       "\n",
       "    .dataframe tbody tr th {\n",
       "        vertical-align: top;\n",
       "    }\n",
       "\n",
       "    .dataframe thead th {\n",
       "        text-align: right;\n",
       "    }\n",
       "</style>\n",
       "<table border=\"1\" class=\"dataframe\">\n",
       "  <thead>\n",
       "    <tr style=\"text-align: right;\">\n",
       "      <th></th>\n",
       "      <th>PassengerId</th>\n",
       "      <th>Survived</th>\n",
       "      <th>Pclass</th>\n",
       "      <th>Name</th>\n",
       "      <th>Sex</th>\n",
       "      <th>Age</th>\n",
       "      <th>SibSp</th>\n",
       "      <th>Parch</th>\n",
       "      <th>Ticket</th>\n",
       "      <th>Fare</th>\n",
       "      <th>Cabin</th>\n",
       "      <th>Embarked</th>\n",
       "    </tr>\n",
       "  </thead>\n",
       "  <tbody>\n",
       "    <tr>\n",
       "      <th>0</th>\n",
       "      <td>1</td>\n",
       "      <td>0</td>\n",
       "      <td>3</td>\n",
       "      <td>Braund, Mr. Owen Harris</td>\n",
       "      <td>male</td>\n",
       "      <td>22.0</td>\n",
       "      <td>1</td>\n",
       "      <td>0</td>\n",
       "      <td>A/5 21171</td>\n",
       "      <td>7.2500</td>\n",
       "      <td>NaN</td>\n",
       "      <td>S</td>\n",
       "    </tr>\n",
       "    <tr>\n",
       "      <th>1</th>\n",
       "      <td>2</td>\n",
       "      <td>1</td>\n",
       "      <td>1</td>\n",
       "      <td>Cumings, Mrs. John Bradley (Florence Briggs Th...</td>\n",
       "      <td>female</td>\n",
       "      <td>38.0</td>\n",
       "      <td>1</td>\n",
       "      <td>0</td>\n",
       "      <td>PC 17599</td>\n",
       "      <td>71.2833</td>\n",
       "      <td>C85</td>\n",
       "      <td>C</td>\n",
       "    </tr>\n",
       "    <tr>\n",
       "      <th>2</th>\n",
       "      <td>3</td>\n",
       "      <td>1</td>\n",
       "      <td>3</td>\n",
       "      <td>Heikkinen, Miss. Laina</td>\n",
       "      <td>female</td>\n",
       "      <td>26.0</td>\n",
       "      <td>0</td>\n",
       "      <td>0</td>\n",
       "      <td>STON/O2. 3101282</td>\n",
       "      <td>7.9250</td>\n",
       "      <td>NaN</td>\n",
       "      <td>S</td>\n",
       "    </tr>\n",
       "    <tr>\n",
       "      <th>3</th>\n",
       "      <td>4</td>\n",
       "      <td>1</td>\n",
       "      <td>1</td>\n",
       "      <td>Futrelle, Mrs. Jacques Heath (Lily May Peel)</td>\n",
       "      <td>female</td>\n",
       "      <td>35.0</td>\n",
       "      <td>1</td>\n",
       "      <td>0</td>\n",
       "      <td>113803</td>\n",
       "      <td>53.1000</td>\n",
       "      <td>C123</td>\n",
       "      <td>S</td>\n",
       "    </tr>\n",
       "    <tr>\n",
       "      <th>4</th>\n",
       "      <td>5</td>\n",
       "      <td>0</td>\n",
       "      <td>3</td>\n",
       "      <td>Allen, Mr. William Henry</td>\n",
       "      <td>male</td>\n",
       "      <td>35.0</td>\n",
       "      <td>0</td>\n",
       "      <td>0</td>\n",
       "      <td>373450</td>\n",
       "      <td>8.0500</td>\n",
       "      <td>NaN</td>\n",
       "      <td>S</td>\n",
       "    </tr>\n",
       "  </tbody>\n",
       "</table>\n",
       "</div>"
      ],
      "text/plain": [
       "   PassengerId  Survived  Pclass  \\\n",
       "0            1         0       3   \n",
       "1            2         1       1   \n",
       "2            3         1       3   \n",
       "3            4         1       1   \n",
       "4            5         0       3   \n",
       "\n",
       "                                                Name     Sex   Age  SibSp  \\\n",
       "0                            Braund, Mr. Owen Harris    male  22.0      1   \n",
       "1  Cumings, Mrs. John Bradley (Florence Briggs Th...  female  38.0      1   \n",
       "2                             Heikkinen, Miss. Laina  female  26.0      0   \n",
       "3       Futrelle, Mrs. Jacques Heath (Lily May Peel)  female  35.0      1   \n",
       "4                           Allen, Mr. William Henry    male  35.0      0   \n",
       "\n",
       "   Parch            Ticket     Fare Cabin Embarked  \n",
       "0      0         A/5 21171   7.2500   NaN        S  \n",
       "1      0          PC 17599  71.2833   C85        C  \n",
       "2      0  STON/O2. 3101282   7.9250   NaN        S  \n",
       "3      0            113803  53.1000  C123        S  \n",
       "4      0            373450   8.0500   NaN        S  "
      ]
     },
     "execution_count": 77,
     "metadata": {},
     "output_type": "execute_result"
    }
   ],
   "source": [
    "data = pd.read_csv(\"titanic.csv\")\n",
    "data.head()"
   ]
  },
  {
   "cell_type": "code",
   "execution_count": 78,
   "metadata": {},
   "outputs": [
    {
     "data": {
      "text/plain": [
       "(891, 12)"
      ]
     },
     "execution_count": 78,
     "metadata": {},
     "output_type": "execute_result"
    }
   ],
   "source": [
    "# satır ve sutun sayısı : 891 satır ve 12 sutun\n",
    "data.shape"
   ]
  },
  {
   "cell_type": "code",
   "execution_count": 79,
   "metadata": {},
   "outputs": [
    {
     "name": "stdout",
     "output_type": "stream",
     "text": [
      "<class 'pandas.core.frame.DataFrame'>\n",
      "RangeIndex: 891 entries, 0 to 890\n",
      "Data columns (total 12 columns):\n",
      "PassengerId    891 non-null int64\n",
      "Survived       891 non-null int64\n",
      "Pclass         891 non-null int64\n",
      "Name           891 non-null object\n",
      "Sex            891 non-null object\n",
      "Age            714 non-null float64\n",
      "SibSp          891 non-null int64\n",
      "Parch          891 non-null int64\n",
      "Ticket         891 non-null object\n",
      "Fare           891 non-null float64\n",
      "Cabin          204 non-null object\n",
      "Embarked       889 non-null object\n",
      "dtypes: float64(2), int64(5), object(5)\n",
      "memory usage: 83.6+ KB\n"
     ]
    }
   ],
   "source": [
    "#null değerleri ve suutnların tiplerini öğrenmek için\n",
    "data.info()"
   ]
  },
  {
   "cell_type": "markdown",
   "metadata": {},
   "source": [
    "select_dtypes() metodu include parametresi ile kullanılır. İstenen tipteki sutunları getirir."
   ]
  },
  {
   "cell_type": "code",
   "execution_count": 80,
   "metadata": {},
   "outputs": [
    {
     "data": {
      "text/html": [
       "<div>\n",
       "<style scoped>\n",
       "    .dataframe tbody tr th:only-of-type {\n",
       "        vertical-align: middle;\n",
       "    }\n",
       "\n",
       "    .dataframe tbody tr th {\n",
       "        vertical-align: top;\n",
       "    }\n",
       "\n",
       "    .dataframe thead th {\n",
       "        text-align: right;\n",
       "    }\n",
       "</style>\n",
       "<table border=\"1\" class=\"dataframe\">\n",
       "  <thead>\n",
       "    <tr style=\"text-align: right;\">\n",
       "      <th></th>\n",
       "      <th>PassengerId</th>\n",
       "      <th>Survived</th>\n",
       "      <th>Pclass</th>\n",
       "      <th>Age</th>\n",
       "      <th>SibSp</th>\n",
       "      <th>Parch</th>\n",
       "      <th>Fare</th>\n",
       "    </tr>\n",
       "  </thead>\n",
       "  <tbody>\n",
       "    <tr>\n",
       "      <th>0</th>\n",
       "      <td>1</td>\n",
       "      <td>0</td>\n",
       "      <td>3</td>\n",
       "      <td>22.0</td>\n",
       "      <td>1</td>\n",
       "      <td>0</td>\n",
       "      <td>7.2500</td>\n",
       "    </tr>\n",
       "    <tr>\n",
       "      <th>1</th>\n",
       "      <td>2</td>\n",
       "      <td>1</td>\n",
       "      <td>1</td>\n",
       "      <td>38.0</td>\n",
       "      <td>1</td>\n",
       "      <td>0</td>\n",
       "      <td>71.2833</td>\n",
       "    </tr>\n",
       "    <tr>\n",
       "      <th>2</th>\n",
       "      <td>3</td>\n",
       "      <td>1</td>\n",
       "      <td>3</td>\n",
       "      <td>26.0</td>\n",
       "      <td>0</td>\n",
       "      <td>0</td>\n",
       "      <td>7.9250</td>\n",
       "    </tr>\n",
       "    <tr>\n",
       "      <th>3</th>\n",
       "      <td>4</td>\n",
       "      <td>1</td>\n",
       "      <td>1</td>\n",
       "      <td>35.0</td>\n",
       "      <td>1</td>\n",
       "      <td>0</td>\n",
       "      <td>53.1000</td>\n",
       "    </tr>\n",
       "    <tr>\n",
       "      <th>4</th>\n",
       "      <td>5</td>\n",
       "      <td>0</td>\n",
       "      <td>3</td>\n",
       "      <td>35.0</td>\n",
       "      <td>0</td>\n",
       "      <td>0</td>\n",
       "      <td>8.0500</td>\n",
       "    </tr>\n",
       "  </tbody>\n",
       "</table>\n",
       "</div>"
      ],
      "text/plain": [
       "   PassengerId  Survived  Pclass   Age  SibSp  Parch     Fare\n",
       "0            1         0       3  22.0      1      0   7.2500\n",
       "1            2         1       1  38.0      1      0  71.2833\n",
       "2            3         1       3  26.0      0      0   7.9250\n",
       "3            4         1       1  35.0      1      0  53.1000\n",
       "4            5         0       3  35.0      0      0   8.0500"
      ]
     },
     "execution_count": 80,
     "metadata": {},
     "output_type": "execute_result"
    }
   ],
   "source": [
    "#sayısal veri tipindeki sutunlar\n",
    "data_types=[\"int16\",\"int32\",\"int64\",\"float16\",\"float32\",\"float64\"]\n",
    "numeric=list(data.select_dtypes(include=data_types))  #select_dtypes metodu include parametresi ile kullanılır. istenen tipteki\n",
    "data=data[numeric]     #parametreleri getirir.\n",
    "data.head()"
   ]
  },
  {
   "cell_type": "markdown",
   "metadata": {},
   "source": [
    "Feauture Selection(Öznitelik Seçimi) yöntemleri\n",
    "\n",
    "1. filter metod\n",
    "2. wapper metod\n",
    "3. embeded metod\n",
    "\n",
    "Örneğin : 1000 tane sütunumuz var. Bunların hepsini kullanamayız. Bizim için en yararlı sütunlar hangileri sorusuna cevap için feature selection yapılıyor."
   ]
  },
  {
   "cell_type": "code",
   "execution_count": 81,
   "metadata": {},
   "outputs": [
    {
     "data": {
      "text/html": [
       "<div>\n",
       "<style scoped>\n",
       "    .dataframe tbody tr th:only-of-type {\n",
       "        vertical-align: middle;\n",
       "    }\n",
       "\n",
       "    .dataframe tbody tr th {\n",
       "        vertical-align: top;\n",
       "    }\n",
       "\n",
       "    .dataframe thead th {\n",
       "        text-align: right;\n",
       "    }\n",
       "</style>\n",
       "<table border=\"1\" class=\"dataframe\">\n",
       "  <thead>\n",
       "    <tr style=\"text-align: right;\">\n",
       "      <th></th>\n",
       "      <th>Survived</th>\n",
       "      <th>Pclass</th>\n",
       "      <th>Age</th>\n",
       "      <th>SibSp</th>\n",
       "      <th>Fare</th>\n",
       "    </tr>\n",
       "  </thead>\n",
       "  <tbody>\n",
       "    <tr>\n",
       "      <th>0</th>\n",
       "      <td>0</td>\n",
       "      <td>3</td>\n",
       "      <td>22.0</td>\n",
       "      <td>1</td>\n",
       "      <td>7.2500</td>\n",
       "    </tr>\n",
       "    <tr>\n",
       "      <th>1</th>\n",
       "      <td>1</td>\n",
       "      <td>1</td>\n",
       "      <td>38.0</td>\n",
       "      <td>1</td>\n",
       "      <td>71.2833</td>\n",
       "    </tr>\n",
       "    <tr>\n",
       "      <th>2</th>\n",
       "      <td>1</td>\n",
       "      <td>3</td>\n",
       "      <td>26.0</td>\n",
       "      <td>0</td>\n",
       "      <td>7.9250</td>\n",
       "    </tr>\n",
       "    <tr>\n",
       "      <th>3</th>\n",
       "      <td>1</td>\n",
       "      <td>1</td>\n",
       "      <td>35.0</td>\n",
       "      <td>1</td>\n",
       "      <td>53.1000</td>\n",
       "    </tr>\n",
       "    <tr>\n",
       "      <th>4</th>\n",
       "      <td>0</td>\n",
       "      <td>3</td>\n",
       "      <td>35.0</td>\n",
       "      <td>0</td>\n",
       "      <td>8.0500</td>\n",
       "    </tr>\n",
       "  </tbody>\n",
       "</table>\n",
       "</div>"
      ],
      "text/plain": [
       "   Survived  Pclass   Age  SibSp     Fare\n",
       "0         0       3  22.0      1   7.2500\n",
       "1         1       1  38.0      1  71.2833\n",
       "2         1       3  26.0      0   7.9250\n",
       "3         1       1  35.0      1  53.1000\n",
       "4         0       3  35.0      0   8.0500"
      ]
     },
     "execution_count": 81,
     "metadata": {},
     "output_type": "execute_result"
    }
   ],
   "source": [
    "#PassengerId ve Parch sutunlarını sil \n",
    "data.drop(columns=[\"PassengerId\",\"Parch\"],inplace=True)  #inplace ile drop edilen son hali kalıcı hale getir.\n",
    "data.head()"
   ]
  },
  {
   "cell_type": "code",
   "execution_count": 82,
   "metadata": {},
   "outputs": [
    {
     "data": {
      "text/plain": [
       "(891, 5)"
      ]
     },
     "execution_count": 82,
     "metadata": {},
     "output_type": "execute_result"
    }
   ],
   "source": [
    "data.shape"
   ]
  },
  {
   "cell_type": "code",
   "execution_count": 83,
   "metadata": {},
   "outputs": [
    {
     "data": {
      "text/plain": [
       "Survived      0\n",
       "Pclass        0\n",
       "Age         177\n",
       "SibSp         0\n",
       "Fare          0\n",
       "dtype: int64"
      ]
     },
     "execution_count": 83,
     "metadata": {},
     "output_type": "execute_result"
    }
   ],
   "source": [
    "#her kolondaki boş (NAN) sayısı\n",
    "data.isnull().sum()"
   ]
  },
  {
   "cell_type": "code",
   "execution_count": 84,
   "metadata": {},
   "outputs": [
    {
     "data": {
      "text/plain": [
       "Survived    0.000000\n",
       "Pclass      0.000000\n",
       "Age         0.198653\n",
       "SibSp       0.000000\n",
       "Fare        0.000000\n",
       "dtype: float64"
      ]
     },
     "execution_count": 84,
     "metadata": {},
     "output_type": "execute_result"
    }
   ],
   "source": [
    "# değerlerin % kaçı boş\n",
    "data.isnull().mean()"
   ]
  },
  {
   "cell_type": "code",
   "execution_count": 85,
   "metadata": {},
   "outputs": [
    {
     "data": {
      "text/plain": [
       "((623, 4), (268, 4))"
      ]
     },
     "execution_count": 85,
     "metadata": {},
     "output_type": "execute_result"
    }
   ],
   "source": [
    "import numpy as np\n",
    "from sklearn.model_selection import train_test_split\n",
    "\n",
    "# X_train = matris -> büyük harfle,  y_train = vektör -> küçük harfle\n",
    "X_train, X_test, y_train, y_test = train_test_split(data.drop(columns=[\"Survived\"]), \n",
    "                                                    data.Survived, test_size=0.3, random_state=0)\n",
    "X_train.shape, X_test.shape"
   ]
  },
  {
   "cell_type": "code",
   "execution_count": 86,
   "metadata": {},
   "outputs": [
    {
     "data": {
      "text/html": [
       "<div>\n",
       "<style scoped>\n",
       "    .dataframe tbody tr th:only-of-type {\n",
       "        vertical-align: middle;\n",
       "    }\n",
       "\n",
       "    .dataframe tbody tr th {\n",
       "        vertical-align: top;\n",
       "    }\n",
       "\n",
       "    .dataframe thead th {\n",
       "        text-align: right;\n",
       "    }\n",
       "</style>\n",
       "<table border=\"1\" class=\"dataframe\">\n",
       "  <thead>\n",
       "    <tr style=\"text-align: right;\">\n",
       "      <th></th>\n",
       "      <th>Pclass</th>\n",
       "      <th>Age</th>\n",
       "      <th>SibSp</th>\n",
       "      <th>Fare</th>\n",
       "    </tr>\n",
       "  </thead>\n",
       "  <tbody>\n",
       "    <tr>\n",
       "      <th>857</th>\n",
       "      <td>1</td>\n",
       "      <td>51.0</td>\n",
       "      <td>0</td>\n",
       "      <td>26.5500</td>\n",
       "    </tr>\n",
       "    <tr>\n",
       "      <th>52</th>\n",
       "      <td>1</td>\n",
       "      <td>49.0</td>\n",
       "      <td>1</td>\n",
       "      <td>76.7292</td>\n",
       "    </tr>\n",
       "    <tr>\n",
       "      <th>386</th>\n",
       "      <td>3</td>\n",
       "      <td>1.0</td>\n",
       "      <td>5</td>\n",
       "      <td>46.9000</td>\n",
       "    </tr>\n",
       "    <tr>\n",
       "      <th>124</th>\n",
       "      <td>1</td>\n",
       "      <td>54.0</td>\n",
       "      <td>0</td>\n",
       "      <td>77.2875</td>\n",
       "    </tr>\n",
       "    <tr>\n",
       "      <th>578</th>\n",
       "      <td>3</td>\n",
       "      <td>NaN</td>\n",
       "      <td>1</td>\n",
       "      <td>14.4583</td>\n",
       "    </tr>\n",
       "  </tbody>\n",
       "</table>\n",
       "</div>"
      ],
      "text/plain": [
       "     Pclass   Age  SibSp     Fare\n",
       "857       1  51.0      0  26.5500\n",
       "52        1  49.0      1  76.7292\n",
       "386       3   1.0      5  46.9000\n",
       "124       1  54.0      0  77.2875\n",
       "578       3   NaN      1  14.4583"
      ]
     },
     "execution_count": 86,
     "metadata": {},
     "output_type": "execute_result"
    }
   ],
   "source": [
    "X_train.head()"
   ]
  },
  {
   "cell_type": "code",
   "execution_count": 87,
   "metadata": {},
   "outputs": [],
   "source": [
    "null_columns=[]\n",
    "\n",
    "def findNullColumns(df):\n",
    "    global null_columns\n",
    "    null_columns=[]\n",
    "    for col in df.columns:\n",
    "        col_sum=df[col].isnull().sum()\n",
    "        if col_sum!=0:\n",
    "            null_columns.append(col)"
   ]
  },
  {
   "cell_type": "code",
   "execution_count": 88,
   "metadata": {},
   "outputs": [],
   "source": [
    "findNullColumns(X_train)"
   ]
  },
  {
   "cell_type": "code",
   "execution_count": 89,
   "metadata": {},
   "outputs": [
    {
     "data": {
      "text/plain": [
       "['Age']"
      ]
     },
     "execution_count": 89,
     "metadata": {},
     "output_type": "execute_result"
    }
   ],
   "source": [
    "null_columns"
   ]
  },
  {
   "cell_type": "code",
   "execution_count": 90,
   "metadata": {},
   "outputs": [],
   "source": [
    "def fillNullColumns(df):\n",
    "    for var in null_columns:\n",
    "        median = df[var].median()\n",
    "        df[var+\"_median\"]=df[var].fillna(median)\n",
    "        df[var+\"_zero\"]=df[var].fillna(0)"
   ]
  },
  {
   "cell_type": "code",
   "execution_count": 91,
   "metadata": {},
   "outputs": [],
   "source": [
    "fillNullColumns(X_train)"
   ]
  },
  {
   "cell_type": "code",
   "execution_count": 92,
   "metadata": {},
   "outputs": [
    {
     "data": {
      "text/html": [
       "<div>\n",
       "<style scoped>\n",
       "    .dataframe tbody tr th:only-of-type {\n",
       "        vertical-align: middle;\n",
       "    }\n",
       "\n",
       "    .dataframe tbody tr th {\n",
       "        vertical-align: top;\n",
       "    }\n",
       "\n",
       "    .dataframe thead th {\n",
       "        text-align: right;\n",
       "    }\n",
       "</style>\n",
       "<table border=\"1\" class=\"dataframe\">\n",
       "  <thead>\n",
       "    <tr style=\"text-align: right;\">\n",
       "      <th></th>\n",
       "      <th>Pclass</th>\n",
       "      <th>Age</th>\n",
       "      <th>SibSp</th>\n",
       "      <th>Fare</th>\n",
       "      <th>Age_median</th>\n",
       "      <th>Age_zero</th>\n",
       "    </tr>\n",
       "  </thead>\n",
       "  <tbody>\n",
       "    <tr>\n",
       "      <th>857</th>\n",
       "      <td>1</td>\n",
       "      <td>51.0</td>\n",
       "      <td>0</td>\n",
       "      <td>26.5500</td>\n",
       "      <td>51.0</td>\n",
       "      <td>51.0</td>\n",
       "    </tr>\n",
       "    <tr>\n",
       "      <th>52</th>\n",
       "      <td>1</td>\n",
       "      <td>49.0</td>\n",
       "      <td>1</td>\n",
       "      <td>76.7292</td>\n",
       "      <td>49.0</td>\n",
       "      <td>49.0</td>\n",
       "    </tr>\n",
       "    <tr>\n",
       "      <th>386</th>\n",
       "      <td>3</td>\n",
       "      <td>1.0</td>\n",
       "      <td>5</td>\n",
       "      <td>46.9000</td>\n",
       "      <td>1.0</td>\n",
       "      <td>1.0</td>\n",
       "    </tr>\n",
       "    <tr>\n",
       "      <th>124</th>\n",
       "      <td>1</td>\n",
       "      <td>54.0</td>\n",
       "      <td>0</td>\n",
       "      <td>77.2875</td>\n",
       "      <td>54.0</td>\n",
       "      <td>54.0</td>\n",
       "    </tr>\n",
       "    <tr>\n",
       "      <th>578</th>\n",
       "      <td>3</td>\n",
       "      <td>NaN</td>\n",
       "      <td>1</td>\n",
       "      <td>14.4583</td>\n",
       "      <td>29.0</td>\n",
       "      <td>0.0</td>\n",
       "    </tr>\n",
       "  </tbody>\n",
       "</table>\n",
       "</div>"
      ],
      "text/plain": [
       "     Pclass   Age  SibSp     Fare  Age_median  Age_zero\n",
       "857       1  51.0      0  26.5500        51.0      51.0\n",
       "52        1  49.0      1  76.7292        49.0      49.0\n",
       "386       3   1.0      5  46.9000         1.0       1.0\n",
       "124       1  54.0      0  77.2875        54.0      54.0\n",
       "578       3   NaN      1  14.4583        29.0       0.0"
      ]
     },
     "execution_count": 92,
     "metadata": {},
     "output_type": "execute_result"
    }
   ],
   "source": [
    "X_train.head()"
   ]
  },
  {
   "cell_type": "code",
   "execution_count": 93,
   "metadata": {},
   "outputs": [],
   "source": [
    "import matplotlib.pyplot as plt\n",
    "% matplotlib inline"
   ]
  },
  {
   "cell_type": "code",
   "execution_count": 94,
   "metadata": {},
   "outputs": [
    {
     "data": {
      "text/plain": [
       "<matplotlib.legend.Legend at 0x244e3f73cf8>"
      ]
     },
     "execution_count": 94,
     "metadata": {},
     "output_type": "execute_result"
    },
    {
     "data": {
      "image/png": "[encoded data removed]",
      "text/plain": [
       "<matplotlib.figure.Figure at 0x244e3f96dd8>"
      ]
     },
     "metadata": {},
     "output_type": "display_data"
    }
   ],
   "source": [
    "fig=plt.figure()\n",
    "ax1=fig.add_subplot(1,1,1)\n",
    "X_train.Age.plot(kind=\"kde\",label=\"Age\",ax=ax1)\n",
    "X_train.Age_median.plot(kind=\"kde\",label=\"Age_median\",ax=ax1,color=\"red\")\n",
    "X_train.Age_zero.plot(kind=\"kde\",label=\"Age_zero\",ax=ax1,color=\"green\")\n",
    "ax1.legend()"
   ]
  },
  {
   "cell_type": "code",
   "execution_count": 95,
   "metadata": {},
   "outputs": [
    {
     "name": "stdout",
     "output_type": "stream",
     "text": [
      "Standart deviation for Age : 14.506993804588443\n",
      "Standart deviation for Age_median : 13.024746215318798\n",
      "Standart deviation for Age_zero : 17.60095360447329\n"
     ]
    }
   ],
   "source": [
    "print(\"Standart deviation for Age :\", X_train.Age.std())\n",
    "print(\"Standart deviation for Age_median :\", X_train.Age_median.std())\n",
    "print(\"Standart deviation for Age_zero :\", X_train.Age_zero.std())"
   ]
  },
  {
   "cell_type": "markdown",
   "metadata": {},
   "source": [
    "Scaling işlemini uygulayıp uygulamayacağıma karar vermek için istatistiki bilgiler için describe() metodu. (sadece dolu olan değerleri alır)\n",
    "\n",
    "50% aynı zamanda medyan değeridir.\n",
    "Scaling metodu, içerisinde Nan değeri ile çalışmaz o yüzden Age kolonunu sileceğiz ve Age_median ve Age_zero ile ayrı ayrı yapıp karşılaştıracağız."
   ]
  },
  {
   "cell_type": "code",
   "execution_count": 96,
   "metadata": {},
   "outputs": [
    {
     "data": {
      "text/html": [
       "<div>\n",
       "<style scoped>\n",
       "    .dataframe tbody tr th:only-of-type {\n",
       "        vertical-align: middle;\n",
       "    }\n",
       "\n",
       "    .dataframe tbody tr th {\n",
       "        vertical-align: top;\n",
       "    }\n",
       "\n",
       "    .dataframe thead th {\n",
       "        text-align: right;\n",
       "    }\n",
       "</style>\n",
       "<table border=\"1\" class=\"dataframe\">\n",
       "  <thead>\n",
       "    <tr style=\"text-align: right;\">\n",
       "      <th></th>\n",
       "      <th>Pclass</th>\n",
       "      <th>Age</th>\n",
       "      <th>SibSp</th>\n",
       "      <th>Fare</th>\n",
       "      <th>Age_median</th>\n",
       "      <th>Age_zero</th>\n",
       "    </tr>\n",
       "  </thead>\n",
       "  <tbody>\n",
       "    <tr>\n",
       "      <th>count</th>\n",
       "      <td>623.000000</td>\n",
       "      <td>502.000000</td>\n",
       "      <td>623.000000</td>\n",
       "      <td>623.000000</td>\n",
       "      <td>623.000000</td>\n",
       "      <td>623.000000</td>\n",
       "    </tr>\n",
       "    <tr>\n",
       "      <th>mean</th>\n",
       "      <td>2.287319</td>\n",
       "      <td>29.915339</td>\n",
       "      <td>0.531300</td>\n",
       "      <td>32.458273</td>\n",
       "      <td>29.737560</td>\n",
       "      <td>24.105136</td>\n",
       "    </tr>\n",
       "    <tr>\n",
       "      <th>std</th>\n",
       "      <td>0.840657</td>\n",
       "      <td>14.506994</td>\n",
       "      <td>1.162891</td>\n",
       "      <td>48.257658</td>\n",
       "      <td>13.024746</td>\n",
       "      <td>17.600954</td>\n",
       "    </tr>\n",
       "    <tr>\n",
       "      <th>min</th>\n",
       "      <td>1.000000</td>\n",
       "      <td>0.670000</td>\n",
       "      <td>0.000000</td>\n",
       "      <td>0.000000</td>\n",
       "      <td>0.670000</td>\n",
       "      <td>0.000000</td>\n",
       "    </tr>\n",
       "    <tr>\n",
       "      <th>25%</th>\n",
       "      <td>1.500000</td>\n",
       "      <td>21.000000</td>\n",
       "      <td>0.000000</td>\n",
       "      <td>7.925000</td>\n",
       "      <td>23.000000</td>\n",
       "      <td>6.000000</td>\n",
       "    </tr>\n",
       "    <tr>\n",
       "      <th>50%</th>\n",
       "      <td>3.000000</td>\n",
       "      <td>29.000000</td>\n",
       "      <td>0.000000</td>\n",
       "      <td>15.000000</td>\n",
       "      <td>29.000000</td>\n",
       "      <td>25.000000</td>\n",
       "    </tr>\n",
       "    <tr>\n",
       "      <th>75%</th>\n",
       "      <td>3.000000</td>\n",
       "      <td>38.000000</td>\n",
       "      <td>1.000000</td>\n",
       "      <td>31.387500</td>\n",
       "      <td>36.000000</td>\n",
       "      <td>36.000000</td>\n",
       "    </tr>\n",
       "    <tr>\n",
       "      <th>max</th>\n",
       "      <td>3.000000</td>\n",
       "      <td>80.000000</td>\n",
       "      <td>8.000000</td>\n",
       "      <td>512.329200</td>\n",
       "      <td>80.000000</td>\n",
       "      <td>80.000000</td>\n",
       "    </tr>\n",
       "  </tbody>\n",
       "</table>\n",
       "</div>"
      ],
      "text/plain": [
       "           Pclass         Age       SibSp        Fare  Age_median    Age_zero\n",
       "count  623.000000  502.000000  623.000000  623.000000  623.000000  623.000000\n",
       "mean     2.287319   29.915339    0.531300   32.458273   29.737560   24.105136\n",
       "std      0.840657   14.506994    1.162891   48.257658   13.024746   17.600954\n",
       "min      1.000000    0.670000    0.000000    0.000000    0.670000    0.000000\n",
       "25%      1.500000   21.000000    0.000000    7.925000   23.000000    6.000000\n",
       "50%      3.000000   29.000000    0.000000   15.000000   29.000000   25.000000\n",
       "75%      3.000000   38.000000    1.000000   31.387500   36.000000   36.000000\n",
       "max      3.000000   80.000000    8.000000  512.329200   80.000000   80.000000"
      ]
     },
     "execution_count": 96,
     "metadata": {},
     "output_type": "execute_result"
    }
   ],
   "source": [
    "X_train.describe()"
   ]
  },
  {
   "cell_type": "code",
   "execution_count": 97,
   "metadata": {},
   "outputs": [],
   "source": [
    "X_train.drop(columns=[\"Age_median\",\"Age_zero\"],inplace=True)"
   ]
  },
  {
   "cell_type": "code",
   "execution_count": 98,
   "metadata": {},
   "outputs": [
    {
     "data": {
      "text/html": [
       "<div>\n",
       "<style scoped>\n",
       "    .dataframe tbody tr th:only-of-type {\n",
       "        vertical-align: middle;\n",
       "    }\n",
       "\n",
       "    .dataframe tbody tr th {\n",
       "        vertical-align: top;\n",
       "    }\n",
       "\n",
       "    .dataframe thead th {\n",
       "        text-align: right;\n",
       "    }\n",
       "</style>\n",
       "<table border=\"1\" class=\"dataframe\">\n",
       "  <thead>\n",
       "    <tr style=\"text-align: right;\">\n",
       "      <th></th>\n",
       "      <th>Pclass</th>\n",
       "      <th>Age</th>\n",
       "      <th>SibSp</th>\n",
       "      <th>Fare</th>\n",
       "      <th>Pclass</th>\n",
       "      <th>Age</th>\n",
       "      <th>SibSp</th>\n",
       "      <th>Fare</th>\n",
       "    </tr>\n",
       "  </thead>\n",
       "  <tbody>\n",
       "    <tr>\n",
       "      <th>0</th>\n",
       "      <td>3.0</td>\n",
       "      <td>22.0</td>\n",
       "      <td>1.0</td>\n",
       "      <td>7.25</td>\n",
       "      <td>NaN</td>\n",
       "      <td>NaN</td>\n",
       "      <td>NaN</td>\n",
       "      <td>NaN</td>\n",
       "    </tr>\n",
       "    <tr>\n",
       "      <th>1</th>\n",
       "      <td>NaN</td>\n",
       "      <td>NaN</td>\n",
       "      <td>NaN</td>\n",
       "      <td>NaN</td>\n",
       "      <td>1.0</td>\n",
       "      <td>38.0</td>\n",
       "      <td>1.0</td>\n",
       "      <td>71.2833</td>\n",
       "    </tr>\n",
       "    <tr>\n",
       "      <th>2</th>\n",
       "      <td>NaN</td>\n",
       "      <td>NaN</td>\n",
       "      <td>NaN</td>\n",
       "      <td>NaN</td>\n",
       "      <td>3.0</td>\n",
       "      <td>26.0</td>\n",
       "      <td>0.0</td>\n",
       "      <td>7.9250</td>\n",
       "    </tr>\n",
       "    <tr>\n",
       "      <th>3</th>\n",
       "      <td>1.0</td>\n",
       "      <td>35.0</td>\n",
       "      <td>1.0</td>\n",
       "      <td>53.10</td>\n",
       "      <td>NaN</td>\n",
       "      <td>NaN</td>\n",
       "      <td>NaN</td>\n",
       "      <td>NaN</td>\n",
       "    </tr>\n",
       "    <tr>\n",
       "      <th>4</th>\n",
       "      <td>3.0</td>\n",
       "      <td>35.0</td>\n",
       "      <td>0.0</td>\n",
       "      <td>8.05</td>\n",
       "      <td>NaN</td>\n",
       "      <td>NaN</td>\n",
       "      <td>NaN</td>\n",
       "      <td>NaN</td>\n",
       "    </tr>\n",
       "  </tbody>\n",
       "</table>\n",
       "</div>"
      ],
      "text/plain": [
       "   Pclass   Age  SibSp   Fare  Pclass   Age  SibSp     Fare\n",
       "0     3.0  22.0    1.0   7.25     NaN   NaN    NaN      NaN\n",
       "1     NaN   NaN    NaN    NaN     1.0  38.0    1.0  71.2833\n",
       "2     NaN   NaN    NaN    NaN     3.0  26.0    0.0   7.9250\n",
       "3     1.0  35.0    1.0  53.10     NaN   NaN    NaN      NaN\n",
       "4     3.0  35.0    0.0   8.05     NaN   NaN    NaN      NaN"
      ]
     },
     "execution_count": 98,
     "metadata": {},
     "output_type": "execute_result"
    }
   ],
   "source": [
    "X_y_train=pd.concat([X_train,X_test],axis=1)\n",
    "X_y_train.head()"
   ]
  },
  {
   "cell_type": "code",
   "execution_count": 99,
   "metadata": {},
   "outputs": [
    {
     "data": {
      "text/plain": [
       "['Age']"
      ]
     },
     "execution_count": 99,
     "metadata": {},
     "output_type": "execute_result"
    }
   ],
   "source": [
    "findNullColumns(X_train)\n",
    "null_columns"
   ]
  },
  {
   "cell_type": "code",
   "execution_count": 100,
   "metadata": {},
   "outputs": [],
   "source": [
    "col_zero=[]\n",
    "for col in X_train.columns:\n",
    "    if col in null_columns:\n",
    "        col_zero.append(col+\"_zero\")\n",
    "    else:\n",
    "        col_zero.append(col)"
   ]
  },
  {
   "cell_type": "code",
   "execution_count": 101,
   "metadata": {},
   "outputs": [
    {
     "data": {
      "text/plain": [
       "['Pclass', 'Age_zero', 'SibSp', 'Fare']"
      ]
     },
     "execution_count": 101,
     "metadata": {},
     "output_type": "execute_result"
    }
   ],
   "source": [
    "col_zero"
   ]
  },
  {
   "cell_type": "code",
   "execution_count": 102,
   "metadata": {},
   "outputs": [],
   "source": [
    "col_median=[]\n",
    "for col in X_train.columns:\n",
    "    if col in null_columns:\n",
    "        col_median.append(col+\"_median\")\n",
    "    else:\n",
    "        col_median.append(col)"
   ]
  },
  {
   "cell_type": "code",
   "execution_count": 103,
   "metadata": {},
   "outputs": [
    {
     "data": {
      "text/plain": [
       "['Pclass', 'Age_median', 'SibSp', 'Fare']"
      ]
     },
     "execution_count": 103,
     "metadata": {},
     "output_type": "execute_result"
    }
   ],
   "source": [
    "col_median"
   ]
  },
  {
   "cell_type": "code",
   "execution_count": 104,
   "metadata": {},
   "outputs": [],
   "source": [
    "fillNullColumns(X_train)"
   ]
  },
  {
   "cell_type": "code",
   "execution_count": 105,
   "metadata": {},
   "outputs": [
    {
     "data": {
      "text/html": [
       "<div>\n",
       "<style scoped>\n",
       "    .dataframe tbody tr th:only-of-type {\n",
       "        vertical-align: middle;\n",
       "    }\n",
       "\n",
       "    .dataframe tbody tr th {\n",
       "        vertical-align: top;\n",
       "    }\n",
       "\n",
       "    .dataframe thead th {\n",
       "        text-align: right;\n",
       "    }\n",
       "</style>\n",
       "<table border=\"1\" class=\"dataframe\">\n",
       "  <thead>\n",
       "    <tr style=\"text-align: right;\">\n",
       "      <th></th>\n",
       "      <th>Pclass</th>\n",
       "      <th>Age</th>\n",
       "      <th>SibSp</th>\n",
       "      <th>Fare</th>\n",
       "      <th>Age_median</th>\n",
       "      <th>Age_zero</th>\n",
       "    </tr>\n",
       "  </thead>\n",
       "  <tbody>\n",
       "    <tr>\n",
       "      <th>857</th>\n",
       "      <td>1</td>\n",
       "      <td>51.0</td>\n",
       "      <td>0</td>\n",
       "      <td>26.5500</td>\n",
       "      <td>51.0</td>\n",
       "      <td>51.0</td>\n",
       "    </tr>\n",
       "    <tr>\n",
       "      <th>52</th>\n",
       "      <td>1</td>\n",
       "      <td>49.0</td>\n",
       "      <td>1</td>\n",
       "      <td>76.7292</td>\n",
       "      <td>49.0</td>\n",
       "      <td>49.0</td>\n",
       "    </tr>\n",
       "    <tr>\n",
       "      <th>386</th>\n",
       "      <td>3</td>\n",
       "      <td>1.0</td>\n",
       "      <td>5</td>\n",
       "      <td>46.9000</td>\n",
       "      <td>1.0</td>\n",
       "      <td>1.0</td>\n",
       "    </tr>\n",
       "    <tr>\n",
       "      <th>124</th>\n",
       "      <td>1</td>\n",
       "      <td>54.0</td>\n",
       "      <td>0</td>\n",
       "      <td>77.2875</td>\n",
       "      <td>54.0</td>\n",
       "      <td>54.0</td>\n",
       "    </tr>\n",
       "    <tr>\n",
       "      <th>578</th>\n",
       "      <td>3</td>\n",
       "      <td>NaN</td>\n",
       "      <td>1</td>\n",
       "      <td>14.4583</td>\n",
       "      <td>29.0</td>\n",
       "      <td>0.0</td>\n",
       "    </tr>\n",
       "  </tbody>\n",
       "</table>\n",
       "</div>"
      ],
      "text/plain": [
       "     Pclass   Age  SibSp     Fare  Age_median  Age_zero\n",
       "857       1  51.0      0  26.5500        51.0      51.0\n",
       "52        1  49.0      1  76.7292        49.0      49.0\n",
       "386       3   1.0      5  46.9000         1.0       1.0\n",
       "124       1  54.0      0  77.2875        54.0      54.0\n",
       "578       3   NaN      1  14.4583        29.0       0.0"
      ]
     },
     "execution_count": 105,
     "metadata": {},
     "output_type": "execute_result"
    }
   ],
   "source": [
    "X_train.head()"
   ]
  },
  {
   "cell_type": "code",
   "execution_count": 106,
   "metadata": {},
   "outputs": [],
   "source": [
    "fillNullColumns(X_test)"
   ]
  },
  {
   "cell_type": "code",
   "execution_count": 109,
   "metadata": {},
   "outputs": [
    {
     "data": {
      "text/html": [
       "<div>\n",
       "<style scoped>\n",
       "    .dataframe tbody tr th:only-of-type {\n",
       "        vertical-align: middle;\n",
       "    }\n",
       "\n",
       "    .dataframe tbody tr th {\n",
       "        vertical-align: top;\n",
       "    }\n",
       "\n",
       "    .dataframe thead th {\n",
       "        text-align: right;\n",
       "    }\n",
       "</style>\n",
       "<table border=\"1\" class=\"dataframe\">\n",
       "  <thead>\n",
       "    <tr style=\"text-align: right;\">\n",
       "      <th></th>\n",
       "      <th>Pclass</th>\n",
       "      <th>Age</th>\n",
       "      <th>SibSp</th>\n",
       "      <th>Fare</th>\n",
       "      <th>Age_median</th>\n",
       "      <th>Age_zero</th>\n",
       "    </tr>\n",
       "  </thead>\n",
       "  <tbody>\n",
       "    <tr>\n",
       "      <th>495</th>\n",
       "      <td>3</td>\n",
       "      <td>NaN</td>\n",
       "      <td>0</td>\n",
       "      <td>14.4583</td>\n",
       "      <td>27.0</td>\n",
       "      <td>0.0</td>\n",
       "    </tr>\n",
       "    <tr>\n",
       "      <th>648</th>\n",
       "      <td>3</td>\n",
       "      <td>NaN</td>\n",
       "      <td>0</td>\n",
       "      <td>7.5500</td>\n",
       "      <td>27.0</td>\n",
       "      <td>0.0</td>\n",
       "    </tr>\n",
       "    <tr>\n",
       "      <th>278</th>\n",
       "      <td>3</td>\n",
       "      <td>7.0</td>\n",
       "      <td>4</td>\n",
       "      <td>29.1250</td>\n",
       "      <td>7.0</td>\n",
       "      <td>7.0</td>\n",
       "    </tr>\n",
       "    <tr>\n",
       "      <th>31</th>\n",
       "      <td>1</td>\n",
       "      <td>NaN</td>\n",
       "      <td>1</td>\n",
       "      <td>146.5208</td>\n",
       "      <td>27.0</td>\n",
       "      <td>0.0</td>\n",
       "    </tr>\n",
       "    <tr>\n",
       "      <th>255</th>\n",
       "      <td>3</td>\n",
       "      <td>29.0</td>\n",
       "      <td>0</td>\n",
       "      <td>15.2458</td>\n",
       "      <td>29.0</td>\n",
       "      <td>29.0</td>\n",
       "    </tr>\n",
       "  </tbody>\n",
       "</table>\n",
       "</div>"
      ],
      "text/plain": [
       "     Pclass   Age  SibSp      Fare  Age_median  Age_zero\n",
       "495       3   NaN      0   14.4583        27.0       0.0\n",
       "648       3   NaN      0    7.5500        27.0       0.0\n",
       "278       3   7.0      4   29.1250         7.0       7.0\n",
       "31        1   NaN      1  146.5208        27.0       0.0\n",
       "255       3  29.0      0   15.2458        29.0      29.0"
      ]
     },
     "execution_count": 109,
     "metadata": {},
     "output_type": "execute_result"
    }
   ],
   "source": [
    "X_test.head()"
   ]
  },
  {
   "cell_type": "code",
   "execution_count": 110,
   "metadata": {},
   "outputs": [
    {
     "data": {
      "text/html": [
       "<div>\n",
       "<style scoped>\n",
       "    .dataframe tbody tr th:only-of-type {\n",
       "        vertical-align: middle;\n",
       "    }\n",
       "\n",
       "    .dataframe tbody tr th {\n",
       "        vertical-align: top;\n",
       "    }\n",
       "\n",
       "    .dataframe thead th {\n",
       "        text-align: right;\n",
       "    }\n",
       "</style>\n",
       "<table border=\"1\" class=\"dataframe\">\n",
       "  <thead>\n",
       "    <tr style=\"text-align: right;\">\n",
       "      <th></th>\n",
       "      <th>Pclass</th>\n",
       "      <th>Age_zero</th>\n",
       "      <th>SibSp</th>\n",
       "      <th>Fare</th>\n",
       "    </tr>\n",
       "  </thead>\n",
       "  <tbody>\n",
       "    <tr>\n",
       "      <th>857</th>\n",
       "      <td>1</td>\n",
       "      <td>51.0</td>\n",
       "      <td>0</td>\n",
       "      <td>26.5500</td>\n",
       "    </tr>\n",
       "    <tr>\n",
       "      <th>52</th>\n",
       "      <td>1</td>\n",
       "      <td>49.0</td>\n",
       "      <td>1</td>\n",
       "      <td>76.7292</td>\n",
       "    </tr>\n",
       "    <tr>\n",
       "      <th>386</th>\n",
       "      <td>3</td>\n",
       "      <td>1.0</td>\n",
       "      <td>5</td>\n",
       "      <td>46.9000</td>\n",
       "    </tr>\n",
       "    <tr>\n",
       "      <th>124</th>\n",
       "      <td>1</td>\n",
       "      <td>54.0</td>\n",
       "      <td>0</td>\n",
       "      <td>77.2875</td>\n",
       "    </tr>\n",
       "    <tr>\n",
       "      <th>578</th>\n",
       "      <td>3</td>\n",
       "      <td>0.0</td>\n",
       "      <td>1</td>\n",
       "      <td>14.4583</td>\n",
       "    </tr>\n",
       "  </tbody>\n",
       "</table>\n",
       "</div>"
      ],
      "text/plain": [
       "     Pclass  Age_zero  SibSp     Fare\n",
       "857       1      51.0      0  26.5500\n",
       "52        1      49.0      1  76.7292\n",
       "386       3       1.0      5  46.9000\n",
       "124       1      54.0      0  77.2875\n",
       "578       3       0.0      1  14.4583"
      ]
     },
     "execution_count": 110,
     "metadata": {},
     "output_type": "execute_result"
    }
   ],
   "source": [
    "X_train_zero=X_train[col_zero]\n",
    "X_train_zero.head()"
   ]
  },
  {
   "cell_type": "code",
   "execution_count": 111,
   "metadata": {},
   "outputs": [
    {
     "data": {
      "text/plain": [
       "(623, 4)"
      ]
     },
     "execution_count": 111,
     "metadata": {},
     "output_type": "execute_result"
    }
   ],
   "source": [
    "X_train_zero.shape"
   ]
  },
  {
   "cell_type": "code",
   "execution_count": 112,
   "metadata": {},
   "outputs": [
    {
     "data": {
      "text/html": [
       "<div>\n",
       "<style scoped>\n",
       "    .dataframe tbody tr th:only-of-type {\n",
       "        vertical-align: middle;\n",
       "    }\n",
       "\n",
       "    .dataframe tbody tr th {\n",
       "        vertical-align: top;\n",
       "    }\n",
       "\n",
       "    .dataframe thead th {\n",
       "        text-align: right;\n",
       "    }\n",
       "</style>\n",
       "<table border=\"1\" class=\"dataframe\">\n",
       "  <thead>\n",
       "    <tr style=\"text-align: right;\">\n",
       "      <th></th>\n",
       "      <th>Pclass</th>\n",
       "      <th>Age_median</th>\n",
       "      <th>SibSp</th>\n",
       "      <th>Fare</th>\n",
       "    </tr>\n",
       "  </thead>\n",
       "  <tbody>\n",
       "    <tr>\n",
       "      <th>857</th>\n",
       "      <td>1</td>\n",
       "      <td>51.0</td>\n",
       "      <td>0</td>\n",
       "      <td>26.5500</td>\n",
       "    </tr>\n",
       "    <tr>\n",
       "      <th>52</th>\n",
       "      <td>1</td>\n",
       "      <td>49.0</td>\n",
       "      <td>1</td>\n",
       "      <td>76.7292</td>\n",
       "    </tr>\n",
       "    <tr>\n",
       "      <th>386</th>\n",
       "      <td>3</td>\n",
       "      <td>1.0</td>\n",
       "      <td>5</td>\n",
       "      <td>46.9000</td>\n",
       "    </tr>\n",
       "    <tr>\n",
       "      <th>124</th>\n",
       "      <td>1</td>\n",
       "      <td>54.0</td>\n",
       "      <td>0</td>\n",
       "      <td>77.2875</td>\n",
       "    </tr>\n",
       "    <tr>\n",
       "      <th>578</th>\n",
       "      <td>3</td>\n",
       "      <td>29.0</td>\n",
       "      <td>1</td>\n",
       "      <td>14.4583</td>\n",
       "    </tr>\n",
       "  </tbody>\n",
       "</table>\n",
       "</div>"
      ],
      "text/plain": [
       "     Pclass  Age_median  SibSp     Fare\n",
       "857       1        51.0      0  26.5500\n",
       "52        1        49.0      1  76.7292\n",
       "386       3         1.0      5  46.9000\n",
       "124       1        54.0      0  77.2875\n",
       "578       3        29.0      1  14.4583"
      ]
     },
     "execution_count": 112,
     "metadata": {},
     "output_type": "execute_result"
    }
   ],
   "source": [
    "X_train_median=X_train[col_median]\n",
    "X_train_median.head()"
   ]
  },
  {
   "cell_type": "code",
   "execution_count": 113,
   "metadata": {},
   "outputs": [
    {
     "data": {
      "text/plain": [
       "(623, 4)"
      ]
     },
     "execution_count": 113,
     "metadata": {},
     "output_type": "execute_result"
    }
   ],
   "source": [
    "X_train_median.shape"
   ]
  },
  {
   "cell_type": "code",
   "execution_count": 115,
   "metadata": {},
   "outputs": [
    {
     "data": {
      "text/html": [
       "<div>\n",
       "<style scoped>\n",
       "    .dataframe tbody tr th:only-of-type {\n",
       "        vertical-align: middle;\n",
       "    }\n",
       "\n",
       "    .dataframe tbody tr th {\n",
       "        vertical-align: top;\n",
       "    }\n",
       "\n",
       "    .dataframe thead th {\n",
       "        text-align: right;\n",
       "    }\n",
       "</style>\n",
       "<table border=\"1\" class=\"dataframe\">\n",
       "  <thead>\n",
       "    <tr style=\"text-align: right;\">\n",
       "      <th></th>\n",
       "      <th>Pclass</th>\n",
       "      <th>Age_zero</th>\n",
       "      <th>SibSp</th>\n",
       "      <th>Fare</th>\n",
       "    </tr>\n",
       "  </thead>\n",
       "  <tbody>\n",
       "    <tr>\n",
       "      <th>495</th>\n",
       "      <td>3</td>\n",
       "      <td>0.0</td>\n",
       "      <td>0</td>\n",
       "      <td>14.4583</td>\n",
       "    </tr>\n",
       "    <tr>\n",
       "      <th>648</th>\n",
       "      <td>3</td>\n",
       "      <td>0.0</td>\n",
       "      <td>0</td>\n",
       "      <td>7.5500</td>\n",
       "    </tr>\n",
       "    <tr>\n",
       "      <th>278</th>\n",
       "      <td>3</td>\n",
       "      <td>7.0</td>\n",
       "      <td>4</td>\n",
       "      <td>29.1250</td>\n",
       "    </tr>\n",
       "    <tr>\n",
       "      <th>31</th>\n",
       "      <td>1</td>\n",
       "      <td>0.0</td>\n",
       "      <td>1</td>\n",
       "      <td>146.5208</td>\n",
       "    </tr>\n",
       "    <tr>\n",
       "      <th>255</th>\n",
       "      <td>3</td>\n",
       "      <td>29.0</td>\n",
       "      <td>0</td>\n",
       "      <td>15.2458</td>\n",
       "    </tr>\n",
       "  </tbody>\n",
       "</table>\n",
       "</div>"
      ],
      "text/plain": [
       "     Pclass  Age_zero  SibSp      Fare\n",
       "495       3       0.0      0   14.4583\n",
       "648       3       0.0      0    7.5500\n",
       "278       3       7.0      4   29.1250\n",
       "31        1       0.0      1  146.5208\n",
       "255       3      29.0      0   15.2458"
      ]
     },
     "execution_count": 115,
     "metadata": {},
     "output_type": "execute_result"
    }
   ],
   "source": [
    "X_test_zero=X_test[col_zero]\n",
    "X_test_zero.head()"
   ]
  },
  {
   "cell_type": "code",
   "execution_count": 116,
   "metadata": {},
   "outputs": [
    {
     "data": {
      "text/plain": [
       "(268, 4)"
      ]
     },
     "execution_count": 116,
     "metadata": {},
     "output_type": "execute_result"
    }
   ],
   "source": [
    "X_test_zero.shape"
   ]
  },
  {
   "cell_type": "code",
   "execution_count": 117,
   "metadata": {},
   "outputs": [
    {
     "data": {
      "text/html": [
       "<div>\n",
       "<style scoped>\n",
       "    .dataframe tbody tr th:only-of-type {\n",
       "        vertical-align: middle;\n",
       "    }\n",
       "\n",
       "    .dataframe tbody tr th {\n",
       "        vertical-align: top;\n",
       "    }\n",
       "\n",
       "    .dataframe thead th {\n",
       "        text-align: right;\n",
       "    }\n",
       "</style>\n",
       "<table border=\"1\" class=\"dataframe\">\n",
       "  <thead>\n",
       "    <tr style=\"text-align: right;\">\n",
       "      <th></th>\n",
       "      <th>Pclass</th>\n",
       "      <th>Age_median</th>\n",
       "      <th>SibSp</th>\n",
       "      <th>Fare</th>\n",
       "    </tr>\n",
       "  </thead>\n",
       "  <tbody>\n",
       "    <tr>\n",
       "      <th>495</th>\n",
       "      <td>3</td>\n",
       "      <td>27.0</td>\n",
       "      <td>0</td>\n",
       "      <td>14.4583</td>\n",
       "    </tr>\n",
       "    <tr>\n",
       "      <th>648</th>\n",
       "      <td>3</td>\n",
       "      <td>27.0</td>\n",
       "      <td>0</td>\n",
       "      <td>7.5500</td>\n",
       "    </tr>\n",
       "    <tr>\n",
       "      <th>278</th>\n",
       "      <td>3</td>\n",
       "      <td>7.0</td>\n",
       "      <td>4</td>\n",
       "      <td>29.1250</td>\n",
       "    </tr>\n",
       "    <tr>\n",
       "      <th>31</th>\n",
       "      <td>1</td>\n",
       "      <td>27.0</td>\n",
       "      <td>1</td>\n",
       "      <td>146.5208</td>\n",
       "    </tr>\n",
       "    <tr>\n",
       "      <th>255</th>\n",
       "      <td>3</td>\n",
       "      <td>29.0</td>\n",
       "      <td>0</td>\n",
       "      <td>15.2458</td>\n",
       "    </tr>\n",
       "  </tbody>\n",
       "</table>\n",
       "</div>"
      ],
      "text/plain": [
       "     Pclass  Age_median  SibSp      Fare\n",
       "495       3        27.0      0   14.4583\n",
       "648       3        27.0      0    7.5500\n",
       "278       3         7.0      4   29.1250\n",
       "31        1        27.0      1  146.5208\n",
       "255       3        29.0      0   15.2458"
      ]
     },
     "execution_count": 117,
     "metadata": {},
     "output_type": "execute_result"
    }
   ],
   "source": [
    "X_test_median=X_test[col_median]\n",
    "X_test_median.head()"
   ]
  },
  {
   "cell_type": "code",
   "execution_count": 118,
   "metadata": {},
   "outputs": [
    {
     "data": {
      "text/plain": [
       "(268, 4)"
      ]
     },
     "execution_count": 118,
     "metadata": {},
     "output_type": "execute_result"
    }
   ],
   "source": [
    "X_test_median.shape"
   ]
  },
  {
   "cell_type": "code",
   "execution_count": 119,
   "metadata": {},
   "outputs": [],
   "source": [
    "from sklearn.preprocessing import StandardScaler"
   ]
  },
  {
   "cell_type": "markdown",
   "metadata": {},
   "source": [
    "fit --> istatistiki bilgileri hesaplamaya yarıyor. İstatistiki bilgileri X_train veri setimden aldım. X_test'deki hiçbir istatistiki değeri görmeden, X_train'in değerlerine göre X_test'i transform etmiş oldum. Eğer X_test'de de fit_transform uygularsak overfitting'e neden olur."
   ]
  },
  {
   "cell_type": "code",
   "execution_count": 120,
   "metadata": {},
   "outputs": [],
   "source": [
    "# Yaş'ın sıfır olması durumunda scale işlemi\n",
    "scaler = StandardScaler()\n",
    "X_train_zero=scaler.fit_transform(X_train_zero)  #X_train'de hem fit hem transform\n",
    "X_test_zero=scaler.transform(X_test_zero)    #X_test'de ise sadece transform"
   ]
  },
  {
   "cell_type": "code",
   "execution_count": 121,
   "metadata": {},
   "outputs": [
    {
     "data": {
      "text/plain": [
       "array([[-1.5325562 ,  1.52926229, -0.457246  , -0.12253019],\n",
       "       [-1.5325562 ,  1.41554077,  0.4033711 ,  0.91812372],\n",
       "       [ 0.84844757, -1.31377554,  3.8458395 ,  0.29950338],\n",
       "       ...,\n",
       "       [ 0.84844757, -1.37063629, -0.457246  , -0.51276504],\n",
       "       [ 0.84844757,  0.67635094,  0.4033711 , -0.31228976],\n",
       "       [-0.34205431,  2.04100909,  0.4033711 ,  0.13566725]])"
      ]
     },
     "execution_count": 121,
     "metadata": {},
     "output_type": "execute_result"
    }
   ],
   "source": [
    "X_train_zero"
   ]
  },
  {
   "cell_type": "code",
   "execution_count": 122,
   "metadata": {},
   "outputs": [
    {
     "data": {
      "text/plain": [
       "array([[ 0.84844757, -1.37063629, -0.457246  , -0.37329694],\n",
       "       [ 0.84844757, -1.37063629, -0.457246  , -0.51656645],\n",
       "       [ 0.84844757, -0.972611  ,  2.9852224 , -0.06912791],\n",
       "       ...,\n",
       "       [ 0.84844757,  0.16460413,  0.4033711 , -0.37338197],\n",
       "       [ 0.84844757, -0.34714268, -0.457246  , -0.51769049],\n",
       "       [-1.5325562 , -1.37063629, -0.457246  , -0.09824926]])"
      ]
     },
     "execution_count": 122,
     "metadata": {},
     "output_type": "execute_result"
    }
   ],
   "source": [
    "X_test_zero"
   ]
  },
  {
   "cell_type": "code",
   "execution_count": 123,
   "metadata": {},
   "outputs": [
    {
     "data": {
      "text/plain": [
       "(623, 4)"
      ]
     },
     "execution_count": 123,
     "metadata": {},
     "output_type": "execute_result"
    }
   ],
   "source": [
    "X_train_zero.shape"
   ]
  },
  {
   "cell_type": "code",
   "execution_count": 124,
   "metadata": {},
   "outputs": [
    {
     "data": {
      "text/plain": [
       "(268, 4)"
      ]
     },
     "execution_count": 124,
     "metadata": {},
     "output_type": "execute_result"
    }
   ],
   "source": [
    "X_test_zero.shape"
   ]
  },
  {
   "cell_type": "code",
   "execution_count": 125,
   "metadata": {},
   "outputs": [],
   "source": [
    "# Yaş'ın medyan değeri olması durumunda scale işlemi\n",
    "scaler = StandardScaler()\n",
    "X_train_median=scaler.fit_transform(X_train_median)  #X_train'de hem fit hem transform\n",
    "X_test_median=scaler.transform(X_test_median)    #X_test'de ise sadece transform"
   ]
  },
  {
   "cell_type": "code",
   "execution_count": 126,
   "metadata": {},
   "outputs": [
    {
     "data": {
      "text/plain": [
       "array([[-1.5325562 ,  1.63377655, -0.457246  , -0.12253019],\n",
       "       [-1.5325562 ,  1.48009931,  0.4033711 ,  0.91812372],\n",
       "       [ 0.84844757, -2.20815449,  3.8458395 ,  0.29950338],\n",
       "       ...,\n",
       "       [ 0.84844757, -0.05667311, -0.457246  , -0.51276504],\n",
       "       [ 0.84844757,  0.48119724,  0.4033711 , -0.31228976],\n",
       "       [-0.34205431,  2.32532414,  0.4033711 ,  0.13566725]])"
      ]
     },
     "execution_count": 126,
     "metadata": {},
     "output_type": "execute_result"
    }
   ],
   "source": [
    "X_train_median"
   ]
  },
  {
   "cell_type": "code",
   "execution_count": 127,
   "metadata": {},
   "outputs": [
    {
     "data": {
      "text/plain": [
       "array([[ 0.84844757, -0.21035035, -0.457246  , -0.37329694],\n",
       "       [ 0.84844757, -0.21035035, -0.457246  , -0.51656645],\n",
       "       [ 0.84844757, -1.74712277,  2.9852224 , -0.06912791],\n",
       "       ...,\n",
       "       [ 0.84844757, -0.21035035,  0.4033711 , -0.37338197],\n",
       "       [ 0.84844757, -0.90189794, -0.457246  , -0.51769049],\n",
       "       [-1.5325562 , -0.21035035, -0.457246  , -0.09824926]])"
      ]
     },
     "execution_count": 127,
     "metadata": {},
     "output_type": "execute_result"
    }
   ],
   "source": [
    "X_test_median"
   ]
  },
  {
   "cell_type": "code",
   "execution_count": 128,
   "metadata": {},
   "outputs": [
    {
     "data": {
      "text/plain": [
       "(623, 4)"
      ]
     },
     "execution_count": 128,
     "metadata": {},
     "output_type": "execute_result"
    }
   ],
   "source": [
    "X_train_median.shape"
   ]
  },
  {
   "cell_type": "code",
   "execution_count": 129,
   "metadata": {},
   "outputs": [
    {
     "data": {
      "text/plain": [
       "(268, 4)"
      ]
     },
     "execution_count": 129,
     "metadata": {},
     "output_type": "execute_result"
    }
   ],
   "source": [
    "X_test_median.shape"
   ]
  },
  {
   "cell_type": "markdown",
   "metadata": {},
   "source": [
    "### Logistic Regression"
   ]
  },
  {
   "cell_type": "code",
   "execution_count": 166,
   "metadata": {},
   "outputs": [],
   "source": [
    "from sklearn.linear_model import LogisticRegression"
   ]
  },
  {
   "cell_type": "code",
   "execution_count": 167,
   "metadata": {},
   "outputs": [],
   "source": [
    "log =LogisticRegression(random_state=42)\n",
    "log.fit(X_train_zero,y_train)  #modeli eğitiyorum\n",
    "lr_predict=log.predict_proba(X_test_zero)  #sadece predict değil predict_proba kullanıldı."
   ]
  },
  {
   "cell_type": "code",
   "execution_count": 168,
   "metadata": {},
   "outputs": [
    {
     "data": {
      "text/plain": [
       "array([[0.6542517 , 0.3457483 ],\n",
       "       [0.65983459, 0.34016541],\n",
       "       [0.78542666, 0.21457334],\n",
       "       [0.19140631, 0.80859369],\n",
       "       [0.76762622, 0.23237378],\n",
       "       [0.23701704, 0.76298296],\n",
       "       [0.30202205, 0.69797795],\n",
       "       [0.25876822, 0.74123178],\n",
       "       [0.3187976 , 0.6812024 ],\n",
       "       [0.66009278, 0.33990722],\n",
       "       [0.7871515 , 0.2128485 ],\n",
       "       [0.63198625, 0.36801375],\n",
       "       [0.65967358, 0.34032642],\n",
       "       [0.46405884, 0.53594116],\n",
       "       [0.2901797 , 0.7098203 ],\n",
       "       [0.71744246, 0.28255754],\n",
       "       [0.75038881, 0.24961119],\n",
       "       [0.54843737, 0.45156263],\n",
       "       [0.79193434, 0.20806566],\n",
       "       [0.66087603, 0.33912397],\n",
       "       [0.53028792, 0.46971208],\n",
       "       [0.23533748, 0.76466252],\n",
       "       [0.65968364, 0.34031636],\n",
       "       [0.23669291, 0.76330709],\n",
       "       [0.74633878, 0.25366122],\n",
       "       [0.3485602 , 0.6514398 ],\n",
       "       [0.78232155, 0.21767845],\n",
       "       [0.74775352, 0.25224648],\n",
       "       [0.55093994, 0.44906006],\n",
       "       [0.74290289, 0.25709711],\n",
       "       [0.78512854, 0.21487146],\n",
       "       [0.67761144, 0.32238856],\n",
       "       [0.76785742, 0.23214258],\n",
       "       [0.2337895 , 0.7662105 ],\n",
       "       [0.79716523, 0.20283477],\n",
       "       [0.36559213, 0.63440787],\n",
       "       [0.81710353, 0.18289647],\n",
       "       [0.57883425, 0.42116575],\n",
       "       [0.56244544, 0.43755456],\n",
       "       [0.69157763, 0.30842237],\n",
       "       [0.48979183, 0.51020817],\n",
       "       [0.75886748, 0.24113252],\n",
       "       [0.65421787, 0.34578213],\n",
       "       [0.80136794, 0.19863206],\n",
       "       [0.36843698, 0.63156302],\n",
       "       [0.65955617, 0.34044383],\n",
       "       [0.65955617, 0.34044383],\n",
       "       [0.20350837, 0.79649163],\n",
       "       [0.62748373, 0.37251627],\n",
       "       [0.45092482, 0.54907518],\n",
       "       [0.23734148, 0.76265852],\n",
       "       [0.30094319, 0.69905681],\n",
       "       [0.48850647, 0.51149353],\n",
       "       [0.73656928, 0.26343072],\n",
       "       [0.23753629, 0.76246371],\n",
       "       [0.57527717, 0.42472283],\n",
       "       [0.51057389, 0.48942611],\n",
       "       [0.79691217, 0.20308783],\n",
       "       [0.77128724, 0.22871276],\n",
       "       [0.70989248, 0.29010752],\n",
       "       [0.74810566, 0.25189434],\n",
       "       [0.76387624, 0.23612376],\n",
       "       [0.46173671, 0.53826329],\n",
       "       [0.2311658 , 0.7688342 ],\n",
       "       [0.76334095, 0.23665905],\n",
       "       [0.78241059, 0.21758941],\n",
       "       [0.44855626, 0.55144374],\n",
       "       [0.55904696, 0.44095304],\n",
       "       [0.47617752, 0.52382248],\n",
       "       [0.30993684, 0.69006316],\n",
       "       [0.58162912, 0.41837088],\n",
       "       [0.45635853, 0.54364147],\n",
       "       [0.3386261 , 0.6613739 ],\n",
       "       [0.65943198, 0.34056802],\n",
       "       [0.75655175, 0.24344825],\n",
       "       [0.6795861 , 0.3204139 ],\n",
       "       [0.23091801, 0.76908199],\n",
       "       [0.4045062 , 0.5954938 ],\n",
       "       [0.78966188, 0.21033812],\n",
       "       [0.44052856, 0.55947144],\n",
       "       [0.67859627, 0.32140373],\n",
       "       [0.72125777, 0.27874223],\n",
       "       [0.59099624, 0.40900376],\n",
       "       [0.72526203, 0.27473797],\n",
       "       [0.64793752, 0.35206248],\n",
       "       [0.28215584, 0.71784416],\n",
       "       [0.25641483, 0.74358517],\n",
       "       [0.86666633, 0.13333367],\n",
       "       [0.60679301, 0.39320699],\n",
       "       [0.27720101, 0.72279899],\n",
       "       [0.25736342, 0.74263658],\n",
       "       [0.73656928, 0.26343072],\n",
       "       [0.4809962 , 0.5190038 ],\n",
       "       [0.39699489, 0.60300511],\n",
       "       [0.76786301, 0.23213699],\n",
       "       [0.66009278, 0.33990722],\n",
       "       [0.55636015, 0.44363985],\n",
       "       [0.80744399, 0.19255601],\n",
       "       [0.50092031, 0.49907969],\n",
       "       [0.30714027, 0.69285973],\n",
       "       [0.81955045, 0.18044955],\n",
       "       [0.71274921, 0.28725079],\n",
       "       [0.73674029, 0.26325971],\n",
       "       [0.76012366, 0.23987634],\n",
       "       [0.79517667, 0.20482333],\n",
       "       [0.80801699, 0.19198301],\n",
       "       [0.57695333, 0.42304667],\n",
       "       [0.7923289 , 0.2076711 ],\n",
       "       [0.58632048, 0.41367952],\n",
       "       [0.68532459, 0.31467541],\n",
       "       [0.83038539, 0.16961461],\n",
       "       [0.30319185, 0.69680815],\n",
       "       [0.75118578, 0.24881422],\n",
       "       [0.65943198, 0.34056802],\n",
       "       [0.34285163, 0.65714837],\n",
       "       [0.57664693, 0.42335307],\n",
       "       [0.77565853, 0.22434147],\n",
       "       [0.20039486, 0.79960514],\n",
       "       [0.80748173, 0.19251827],\n",
       "       [0.67570096, 0.32429904],\n",
       "       [0.61940337, 0.38059663],\n",
       "       [0.65910304, 0.34089696],\n",
       "       [0.73977   , 0.26023   ],\n",
       "       [0.41923225, 0.58076775],\n",
       "       [0.78513357, 0.21486643],\n",
       "       [0.48844291, 0.51155709],\n",
       "       [0.66009616, 0.33990384],\n",
       "       [0.78394634, 0.21605366],\n",
       "       [0.45387119, 0.54612881],\n",
       "       [0.68023768, 0.31976232],\n",
       "       [0.74409385, 0.25590615],\n",
       "       [0.74388892, 0.25611108],\n",
       "       [0.75898231, 0.24101769],\n",
       "       [0.7658295 , 0.2341705 ],\n",
       "       [0.5207119 , 0.4792881 ],\n",
       "       [0.74388892, 0.25611108],\n",
       "       [0.69128758, 0.30871242],\n",
       "       [0.82812142, 0.17187858],\n",
       "       [0.671653  , 0.328347  ],\n",
       "       [0.55291909, 0.44708091],\n",
       "       [0.57664693, 0.42335307],\n",
       "       [0.35412635, 0.64587365],\n",
       "       [0.65943198, 0.34056802],\n",
       "       [0.73360917, 0.26639083],\n",
       "       [0.42472811, 0.57527189],\n",
       "       [0.7542376 , 0.2457624 ],\n",
       "       [0.5860462 , 0.4139538 ],\n",
       "       [0.66308002, 0.33691998],\n",
       "       [0.27251142, 0.72748858],\n",
       "       [0.65893848, 0.34106152],\n",
       "       [0.41439522, 0.58560478],\n",
       "       [0.77280241, 0.22719759],\n",
       "       [0.79733673, 0.20266327],\n",
       "       [0.77237123, 0.22762877],\n",
       "       [0.52502823, 0.47497177],\n",
       "       [0.56939154, 0.43060846],\n",
       "       [0.81858049, 0.18141951],\n",
       "       [0.72602353, 0.27397647],\n",
       "       [0.65967358, 0.34032642],\n",
       "       [0.71578739, 0.28421261],\n",
       "       [0.65955617, 0.34044383],\n",
       "       [0.74075836, 0.25924164],\n",
       "       [0.47859086, 0.52140914],\n",
       "       [0.84591931, 0.15408069],\n",
       "       [0.74982294, 0.25017706],\n",
       "       [0.75858845, 0.24141155],\n",
       "       [0.83877764, 0.16122236],\n",
       "       [0.74772254, 0.25227746],\n",
       "       [0.7548714 , 0.2451286 ],\n",
       "       [0.72846381, 0.27153619],\n",
       "       [0.8382941 , 0.1617059 ],\n",
       "       [0.39239107, 0.60760893],\n",
       "       [0.66007605, 0.33992395],\n",
       "       [0.65421787, 0.34578213],\n",
       "       [0.71396949, 0.28603051],\n",
       "       [0.65943198, 0.34056802],\n",
       "       [0.32672284, 0.67327716],\n",
       "       [0.75130852, 0.24869148],\n",
       "       [0.73646196, 0.26353804],\n",
       "       [0.65361254, 0.34638746],\n",
       "       [0.59288883, 0.40711117],\n",
       "       [0.60471997, 0.39528003],\n",
       "       [0.74296761, 0.25703239],\n",
       "       [0.74443516, 0.25556484],\n",
       "       [0.42964204, 0.57035796],\n",
       "       [0.74755053, 0.25244947],\n",
       "       [0.65956954, 0.34043046],\n",
       "       [0.45387119, 0.54612881],\n",
       "       [0.76202582, 0.23797418],\n",
       "       [0.58283669, 0.41716331],\n",
       "       [0.76927472, 0.23072528],\n",
       "       [0.37676865, 0.62323135],\n",
       "       [0.7217939 , 0.2782061 ],\n",
       "       [0.65968364, 0.34031636],\n",
       "       [0.65967358, 0.34032642],\n",
       "       [0.49329253, 0.50670747],\n",
       "       [0.65943198, 0.34056802],\n",
       "       [0.69281697, 0.30718303],\n",
       "       [0.37791986, 0.62208014],\n",
       "       [0.83696807, 0.16303193],\n",
       "       [0.73269703, 0.26730297],\n",
       "       [0.68613288, 0.31386712],\n",
       "       [0.75565849, 0.24434151],\n",
       "       [0.74344798, 0.25655202],\n",
       "       [0.73646196, 0.26353804],\n",
       "       [0.61123332, 0.38876668],\n",
       "       [0.79705755, 0.20294245],\n",
       "       [0.78203638, 0.21796362],\n",
       "       [0.72529183, 0.27470817],\n",
       "       [0.83565932, 0.16434068],\n",
       "       [0.75543227, 0.24456773],\n",
       "       [0.47360992, 0.52639008],\n",
       "       [0.7789734 , 0.2210266 ],\n",
       "       [0.72172922, 0.27827078],\n",
       "       [0.60065028, 0.39934972],\n",
       "       [0.73656928, 0.26343072],\n",
       "       [0.61751234, 0.38248766],\n",
       "       [0.68556374, 0.31443626],\n",
       "       [0.83241537, 0.16758463],\n",
       "       [0.18886644, 0.81113356],\n",
       "       [0.73665333, 0.26334667],\n",
       "       [0.21305994, 0.78694006],\n",
       "       [0.70083735, 0.29916265],\n",
       "       [0.76888139, 0.23111861],\n",
       "       [0.82731421, 0.17268579],\n",
       "       [0.79502871, 0.20497129],\n",
       "       [0.7480916 , 0.2519084 ],\n",
       "       [0.65373681, 0.34626319],\n",
       "       [0.76357719, 0.23642281],\n",
       "       [0.75194924, 0.24805076],\n",
       "       [0.78462139, 0.21537861],\n",
       "       [0.54725702, 0.45274298],\n",
       "       [0.76192825, 0.23807175],\n",
       "       [0.74587735, 0.25412265],\n",
       "       [0.48161829, 0.51838171],\n",
       "       [0.78881284, 0.21118716],\n",
       "       [0.09785498, 0.90214502],\n",
       "       [0.45325399, 0.54674601],\n",
       "       [0.6310551 , 0.3689449 ],\n",
       "       [0.66002575, 0.33997425],\n",
       "       [0.66009278, 0.33990722],\n",
       "       [0.43865887, 0.56134113],\n",
       "       [0.78230372, 0.21769628],\n",
       "       [0.59810422, 0.40189578],\n",
       "       [0.26937595, 0.73062405],\n",
       "       [0.68552116, 0.31447884],\n",
       "       [0.6593615 , 0.3406385 ],\n",
       "       [0.65955617, 0.34044383],\n",
       "       [0.65943198, 0.34056802],\n",
       "       [0.76247057, 0.23752943],\n",
       "       [0.74765488, 0.25234512],\n",
       "       [0.77253055, 0.22746945],\n",
       "       [0.40929474, 0.59070526],\n",
       "       [0.45387119, 0.54612881],\n",
       "       [0.82519164, 0.17480836],\n",
       "       [0.75355956, 0.24644044],\n",
       "       [0.65967358, 0.34032642],\n",
       "       [0.8219665 , 0.1780335 ],\n",
       "       [0.77069151, 0.22930849],\n",
       "       [0.88321321, 0.11678679],\n",
       "       [0.65955617, 0.34044383],\n",
       "       [0.71105132, 0.28894868],\n",
       "       [0.79129561, 0.20870439],\n",
       "       [0.42866371, 0.57133629],\n",
       "       [0.65340611, 0.34659389],\n",
       "       [0.78642007, 0.21357993],\n",
       "       [0.73308612, 0.26691388],\n",
       "       [0.23882427, 0.76117573]])"
      ]
     },
     "execution_count": 168,
     "metadata": {},
     "output_type": "execute_result"
    }
   ],
   "source": [
    "lr_predict  # array[0] --> 0 olma olasılığı  array[1] --> 1 olma olasılığı"
   ]
  },
  {
   "cell_type": "code",
   "execution_count": 169,
   "metadata": {},
   "outputs": [
    {
     "name": "stdout",
     "output_type": "stream",
     "text": [
      "ROC AUC score for zero :  0.6988095238095238\n"
     ]
    }
   ],
   "source": [
    "from sklearn.metrics import roc_auc_score\n",
    "print(\"ROC AUC score for zero : \", format(roc_auc_score(y_test,lr_predict[:,1])))"
   ]
  },
  {
   "cell_type": "code",
   "execution_count": 170,
   "metadata": {},
   "outputs": [
    {
     "name": "stdout",
     "output_type": "stream",
     "text": [
      "ROC AUC score for median :  0.7255952380952382\n"
     ]
    }
   ],
   "source": [
    "log =LogisticRegression(random_state=42)\n",
    "log.fit(X_train_median,y_train) \n",
    "lr_predict=log.predict_proba(X_test_median) \n",
    "print(\"ROC AUC score for median : \", format(roc_auc_score(y_test,lr_predict[:,1])))"
   ]
  },
  {
   "cell_type": "markdown",
   "metadata": {},
   "source": [
    "### RandomForestClassifier"
   ]
  },
  {
   "cell_type": "code",
   "execution_count": 171,
   "metadata": {},
   "outputs": [],
   "source": [
    "from sklearn.ensemble import RandomForestClassifier"
   ]
  },
  {
   "cell_type": "code",
   "execution_count": 172,
   "metadata": {},
   "outputs": [
    {
     "name": "stdout",
     "output_type": "stream",
     "text": [
      " RandomForestClassifier - ROC AUC score for zero :  0.7489583333333333\n"
     ]
    }
   ],
   "source": [
    "rf = RandomForestClassifier(n_estimators=100,random_state=42,max_depth=3)\n",
    "rf.fit(X_train_zero,y_train)\n",
    "rf_predict=rf.predict_proba(X_test_zero)\n",
    "print(\" RandomForestClassifier - ROC AUC score for zero : \", format(roc_auc_score(y_test,rf_predict[:,1])))"
   ]
  },
  {
   "cell_type": "code",
   "execution_count": 173,
   "metadata": {},
   "outputs": [
    {
     "name": "stdout",
     "output_type": "stream",
     "text": [
      " RandomForestClassifier - ROC AUC score for median :  0.7720535714285713\n"
     ]
    }
   ],
   "source": [
    "rf = RandomForestClassifier(n_estimators=100,random_state=42,max_depth=3)\n",
    "rf.fit(X_train_median,y_train)\n",
    "rf_predict=rf.predict_proba(X_test_median)\n",
    "print(\" RandomForestClassifier - ROC AUC score for median : \", format(roc_auc_score(y_test,rf_predict[:,1])))"
   ]
  },
  {
   "cell_type": "markdown",
   "metadata": {},
   "source": [
    "### Support Vector Kernel"
   ]
  },
  {
   "cell_type": "code",
   "execution_count": 175,
   "metadata": {},
   "outputs": [],
   "source": [
    "from sklearn.svm import SVC"
   ]
  },
  {
   "cell_type": "code",
   "execution_count": 176,
   "metadata": {},
   "outputs": [
    {
     "name": "stdout",
     "output_type": "stream",
     "text": [
      " SVC - ROC AUC score for zero :  0.7190476190476189\n"
     ]
    }
   ],
   "source": [
    "model = SVC(kernel=\"rbf\",random_state=0,probability=True)  #predict_proba metodunu kullanmak için probability=True yapıyoruz.\n",
    "model.fit(X_train_zero,y_train)\n",
    "svc_predict= model.predict_proba(X_test_zero)\n",
    "print(\" SVC - ROC AUC score for zero : \", format(roc_auc_score(y_test,svc_predict[:,1])))"
   ]
  },
  {
   "cell_type": "code",
   "execution_count": 177,
   "metadata": {},
   "outputs": [
    {
     "name": "stdout",
     "output_type": "stream",
     "text": [
      " SVC - ROC AUC score for median :  0.7581547619047618\n"
     ]
    }
   ],
   "source": [
    "model = SVC(kernel=\"rbf\",random_state=0,probability=True)  #predict_proba metodunu kullanmak için probability=True yapıyoruz.\n",
    "model.fit(X_train_median,y_train)\n",
    "svc_predict= model.predict_proba(X_test_median)\n",
    "print(\" SVC - ROC AUC score for median : \", format(roc_auc_score(y_test,svc_predict[:,1])))"
   ]
  },
  {
   "cell_type": "markdown",
   "metadata": {},
   "source": [
    "Her üç algortima için de Nan değerleri medyan ile doldurmak 0 ile doldurmağa göre avantajlı. ROC AUC değeri daha yüksek."
   ]
  }
 ],
 "metadata": {
  "kernelspec": {
   "display_name": "Python 3",
   "language": "python",
   "name": "python3"
  },
  "language_info": {
   "codemirror_mode": {
    "name": "ipython",
    "version": 3
   },
   "file_extension": ".py",
   "mimetype": "text/x-python",
   "name": "python",
   "nbconvert_exporter": "python",
   "pygments_lexer": "ipython3",
   "version": "3.6.4"
  }
 },
 "nbformat": 4,
 "nbformat_minor": 2
}

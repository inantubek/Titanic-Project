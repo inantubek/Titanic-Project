{
 "cells": [
  {
   "cell_type": "markdown",
   "metadata": {},
   "source": [
    "https://www.kaggle.com/c/titanic\n",
    "\n",
    "15 April 1912 Titanic gemi kazası ile ilgili veri seti\n",
    "\n",
    "2224 kişiden 1502 kişi kazada ölmüş (yolcu ve görevli)\n",
    "\n",
    "titanic.csv içinde\n",
    "\n",
    "Survival (hayatta kalıp kalmama durumu)--> bağımlı değişken (hedef değişken)\n",
    "0 = hayatta kalmadı\n",
    "1 = hayatta kaldı\n",
    "\n",
    "Bağımsız Değişkenler\n",
    "1-sex (cinsiyet)\n",
    "2-Age  (yaş)\n",
    "3-sipsb(kardeşler(siblings), karı koca(spouse))\n",
    "4-parch (parent, children)\n",
    "5-ticket ( bilet numarası)\n",
    "6-fare (yolcu ücreti)\n",
    "7-cabin(kabin numarası)\n",
    "8-embarked(bindiği liman -->  C:Cherbourg, Q: Queenstown, S: Southampton) \n",
    "9-pclass (biletin sınıfı)\n"
   ]
  }
 ],
 "metadata": {
  "kernelspec": {
   "display_name": "Python 3",
   "language": "python",
   "name": "python3"
  },
  "language_info": {
   "codemirror_mode": {
    "name": "ipython",
    "version": 3
   },
   "file_extension": ".py",
   "mimetype": "text/x-python",
   "name": "python",
   "nbconvert_exporter": "python",
   "pygments_lexer": "ipython3",
   "version": "3.6.4"
  }
 },
 "nbformat": 4,
 "nbformat_minor": 2
}
